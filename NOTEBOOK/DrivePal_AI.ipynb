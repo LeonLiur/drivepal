{
  "nbformat": 4,
  "nbformat_minor": 0,
  "metadata": {
    "colab": {
      "provenance": [],
      "collapsed_sections": []
    },
    "kernelspec": {
      "name": "python3",
      "display_name": "Python 3"
    },
    "language_info": {
      "name": "python"
    }
  },
  "cells": [
    {
      "cell_type": "code",
      "execution_count": null,
      "metadata": {
        "colab": {
          "base_uri": "https://localhost:8080/"
        },
        "id": "8slNBHkMUGoJ",
        "outputId": "dbd35199-3688-4c14-ec41-4fe5f9065a5b"
      },
      "outputs": [
        {
          "output_type": "stream",
          "name": "stdout",
          "text": [
            "Mounted at /content/drive\n"
          ]
        }
      ],
      "source": [
        "from google.colab import drive\n",
        "drive.mount('/content/drive')"
      ]
    },
    {
      "cell_type": "code",
      "source": [
        "%pip install clarifai_grpc\n",
        "from PIL import Image\n",
        "import os\n",
        "import pandas as pd\n",
        "%cd '/content'"
      ],
      "metadata": {
        "id": "FvqQuiVXbCf2"
      },
      "execution_count": null,
      "outputs": []
    },
    {
      "cell_type": "code",
      "source": [
        "for f in os.listdir('data'):\n",
        "  if f[-4:] == \".jpg\":\n",
        "    os.remove(os.path.join('data', f))"
      ],
      "metadata": {
        "id": "RGGDEhk1tM3Y"
      },
      "execution_count": null,
      "outputs": []
    },
    {
      "cell_type": "code",
      "source": [
        "for f in os.listdir('data'):\n",
        "  if f[-4:] != \".ppm\":\n",
        "    continue\n",
        "  im = Image.open(os.path.join('data', f))\n",
        "  im_jpg = im.convert('RGB')\n",
        "  im_jpg.save(os.path.join('data', f[:-4] + '.jpg'))"
      ],
      "metadata": {
        "id": "Cxl2mGKhaynE"
      },
      "execution_count": null,
      "outputs": []
    },
    {
      "cell_type": "code",
      "source": [
        "from clarifai_grpc.channel.clarifai_channel import ClarifaiChannel\n",
        "from clarifai_grpc.grpc.api import resources_pb2, service_pb2, service_pb2_grpc\n",
        "from clarifai_grpc.grpc.api.status import status_code_pb2\n",
        "\n",
        "USER_ID = 'marsxiang5902'\n",
        "APP_ID = 'HTN2022'\n",
        "PAT = ''"
      ],
      "metadata": {
        "id": "ULviEVyz2XuA"
      },
      "execution_count": null,
      "outputs": []
    },
    {
      "cell_type": "code",
      "source": [
        "def uploadFile(IMAGE_FILE_LOCATION):\n",
        "  channel = ClarifaiChannel.get_grpc_channel()\n",
        "  stub = service_pb2_grpc.V2Stub(channel)\n",
        "\n",
        "  metadata = (('authorization', 'Key ' + PAT),)\n",
        "\n",
        "  userDataObject = resources_pb2.UserAppIDSet(user_id=USER_ID, app_id=APP_ID)\n",
        "\n",
        "  with open(IMAGE_FILE_LOCATION, \"rb\") as f:\n",
        "    file_bytes = f.read()\n",
        "\n",
        "  post_inputs_response = stub.PostInputs(\n",
        "    service_pb2.PostInputsRequest(\n",
        "      user_app_id=userDataObject,\n",
        "      inputs=[\n",
        "        resources_pb2.Input(\n",
        "          data=resources_pb2.Data(\n",
        "            image=resources_pb2.Image(\n",
        "              base64=file_bytes\n",
        "            )\n",
        "          )\n",
        "        )\n",
        "      ]\n",
        "    ),\n",
        "    metadata=metadata\n",
        "  )\n",
        "\n",
        "\n",
        "  if post_inputs_response.status.code != status_code_pb2.SUCCESS:\n",
        "    print(post_inputs_response.status)\n",
        "    raise Exception(\"Post inputs failed, status: \" + post_inputs_response.status.description)\n",
        "\n",
        "  return post_inputs_response.inputs[0].id"
      ],
      "metadata": {
        "id": "V_znFI4czSOy"
      },
      "execution_count": null,
      "outputs": []
    },
    {
      "cell_type": "code",
      "source": [
        "def updateFile(name, INPUT_ID, CONCEPTS):\n",
        "  channel = ClarifaiChannel.get_grpc_channel()\n",
        "  stub = service_pb2_grpc.V2Stub(channel)\n",
        "\n",
        "  metadata = (('authorization', 'Key ' + PAT),)\n",
        "\n",
        "  userDataObject = resources_pb2.UserAppIDSet(user_id=USER_ID, app_id=APP_ID)\n",
        "\n",
        "  im = Image.open(name)\n",
        "  width, height = im.size\n",
        "\n",
        "  post_annotations_response = stub.PostAnnotations(\n",
        "      service_pb2.PostAnnotationsRequest(\n",
        "          user_app_id=userDataObject,\n",
        "          annotations=list(map(lambda tpl:\n",
        "            resources_pb2.Annotation(\n",
        "                input_id=INPUT_ID,\n",
        "                data=resources_pb2.Data(\n",
        "                    regions=[\n",
        "                        resources_pb2.Region(\n",
        "                            region_info=resources_pb2.RegionInfo(\n",
        "                                bounding_box=resources_pb2.BoundingBox(\n",
        "                                    left_col=tpl[1][0]/width,\n",
        "                                    top_row=tpl[1][1]/height,\n",
        "                                    right_col=tpl[1][2]/width,\n",
        "                                    bottom_row=tpl[1][3]/height\n",
        "                                )\n",
        "                            ),\n",
        "                            data=resources_pb2.Data(\n",
        "                                concepts=[\n",
        "                                    resources_pb2.Concept(id=str(tpl[0]), value=1.)\n",
        "                                ]\n",
        "                            )\n",
        "                        )\n",
        "                    ]\n",
        "                )\n",
        "            ), CONCEPTS)\n",
        "          )\n",
        "      ),\n",
        "      metadata=metadata\n",
        "  )\n",
        "\n",
        "  if post_annotations_response.status.code != status_code_pb2.SUCCESS:\n",
        "      print(post_annotations_response.status)\n",
        "      raise Exception(\"Post annotations failed, status: \" + post_annotations_response.status.description)"
      ],
      "metadata": {
        "id": "dmNKjGcmFEXQ"
      },
      "execution_count": null,
      "outputs": []
    },
    {
      "cell_type": "code",
      "source": [
        "df = pd.read_csv('data/gt.txt', sep=';', names=['path','left','top','right','bottom','id'])\n",
        "df.head()"
      ],
      "metadata": {
        "id": "tS0Y94u32q-D"
      },
      "execution_count": null,
      "outputs": []
    },
    {
      "cell_type": "code",
      "source": [
        "mp = {}\n",
        "for f in os.listdir('data'):\n",
        "  if f[-4:] != \".jpg\":\n",
        "    continue\n",
        "  mp[f] = []"
      ],
      "metadata": {
        "id": "sBk6qJSB3bF2"
      },
      "execution_count": null,
      "outputs": []
    },
    {
      "cell_type": "code",
      "source": [
        "stop = '00100.ppm'\n",
        "for i, r in df.iterrows():\n",
        "  if r['path'] == stop:\n",
        "    break\n",
        "  mp[r['path'][:-4] + '.jpg'].append((r['id'], (r['left'], r['top'], r['right'], r['bottom'])))"
      ],
      "metadata": {
        "id": "In2Dawek4pEy"
      },
      "execution_count": null,
      "outputs": []
    },
    {
      "cell_type": "code",
      "source": [
        "ids = []\n",
        "for k, v in mp.items():\n",
        "  ids.append(uploadFile(os.path.join('data', k)))\n",
        "  if len(ids) % 10 == 0:\n",
        "    print(len(ids))"
      ],
      "metadata": {
        "id": "ODhdQmQv6XPB"
      },
      "execution_count": null,
      "outputs": []
    },
    {
      "cell_type": "code",
      "source": [
        "i = 0\n",
        "for k, v in mp.items():\n",
        "  updateFile(os.path.join('data', k), ids[i], v)\n",
        "  i += 1\n",
        "  if i % 10 == 0:\n",
        "    print(i)"
      ],
      "metadata": {
        "id": "obRrhnQzBNZT"
      },
      "execution_count": null,
      "outputs": []
    },
    {
      "cell_type": "code",
      "source": [
        "def queryFile(path):\n",
        "  channel = ClarifaiChannel.get_grpc_channel()\n",
        "  stub = service_pb2_grpc.V2Stub(channel)\n",
        "\n",
        "  metadata = (('authorization', 'Key ' + PAT),)\n",
        "\n",
        "  userDataObject = resources_pb2.UserAppIDSet(user_id=USER_ID, app_id=APP_ID)\n",
        "\n",
        "\n",
        "  with open(path, \"rb\") as f:\n",
        "    file_bytes = f.read()\n",
        "\n",
        "  post_model_outputs_response = stub.PostModelOutputs(\n",
        "      service_pb2.PostModelOutputsRequest(\n",
        "          user_app_id=userDataObject,\n",
        "          model_id=\"GTSDB-Detector\",\n",
        "          inputs=[\n",
        "              resources_pb2.Input(\n",
        "                  data=resources_pb2.Data(\n",
        "                      image=resources_pb2.Image(\n",
        "                          base64=file_bytes\n",
        "                      )\n",
        "                  )\n",
        "              )\n",
        "          ]\n",
        "      ),\n",
        "      metadata=metadata\n",
        "  )\n",
        "\n",
        "  if post_model_outputs_response.status.code != status_code_pb2.SUCCESS:\n",
        "      print(\"There was an error with your request!\")\n",
        "      print(\"\\tCode: {}\".format(post_model_outputs_response.outputs[0].status.code))\n",
        "      print(\"\\tDescription: {}\".format(post_model_outputs_response.outputs[0].status.description))\n",
        "      print(\"\\tDetails: {}\".format(respopost_model_outputs_responsense.outputs[0].status.details))\n",
        "      raise Exception(\"Post model outputs failed, status: \" + post_model_outputs_response.status.description)\n",
        "\n",
        "  # Since we have one input, one output will exist here.\n",
        "  output = post_model_outputs_response.outputs[0]\n",
        "\n",
        "  return [(concept.name, concept.value) for concept in output.data.concepts]"
      ],
      "metadata": {
        "colab": {
          "base_uri": "https://localhost:8080/"
        },
        "id": "KsQ9YAhCg0Rk",
        "outputId": "490c0fee-cded-44f0-c5a2-29bfa9018c70"
      },
      "execution_count": null,
      "outputs": [
        {
          "output_type": "stream",
          "name": "stdout",
          "text": [
            "Predicted concepts:\n"
          ]
        }
      ]
    }
  ]
}